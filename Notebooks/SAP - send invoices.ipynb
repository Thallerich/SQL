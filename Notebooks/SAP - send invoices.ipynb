{
    "metadata": {
        "kernelspec": {
            "name": "SQL",
            "display_name": "SQL",
            "language": "sql"
        },
        "language_info": {
            "name": "sql",
            "version": ""
        }
    },
    "nbformat_minor": 2,
    "nbformat": 4,
    "cells": [
        {
            "cell_type": "markdown",
            "source": [
                "## 1\\. Prepare invoices for manual sending"
            ],
            "metadata": {
                "azdata_cell_guid": "3d1b25d1-837f-4144-83dc-94aa846bcaa3"
            }
        },
        {
            "cell_type": "code",
            "source": [
                "IF OBJECT_ID(N'Salesianer.dbo.__RechKoSofortSAPmanuell') IS NULL\r\n",
                "BEGIN\r\n",
                "  CREATE TABLE Salesianer.dbo.__RechKoSofortSAPmanuell (\r\n",
                "    ID int\r\n",
                "  );\r\n",
                "END ELSE BEGIN\r\n",
                "  TRUNCATE TABLE Salesianer.dbo.__RechKoSofortSAPmanuell;\r\n",
                "END;\r\n",
                "\r\n",
                "GO\r\n",
                "\r\n",
                "DECLARE @RechNr TABLE (\r\n",
                "  RechNr int\r\n",
                ");\r\n",
                "\r\n",
                "/* +++++++++++++++++++++++++++++++++++++++++++++++++++++++++++++++ */\r\n",
                "/* ++ Set table variable to specific invoice numbers!           ++ */\r\n",
                "/* +++++++++++++++++++++++++++++++++++++++++++++++++++++++++++++++ */\r\n",
                "INSERT INTO @RechNr VALUES (1710003893);\r\n",
                "\r\n",
                "INSERT INTO Salesianer.dbo.__RechKoSofortSAPmanuell\r\n",
                "SELECT RechKo.ID\r\n",
                "FROM Salesianer.dbo.RechKo\r\n",
                "WHERE RechKo.FibuExpID < 0\r\n",
                "  AND RechKo.Status = N'F'\r\n",
                "  AND RechKo.RechNr IN (\r\n",
                "    SELECT RechNr\r\n",
                "    FROM @RechNr\r\n",
                "  );\r\n",
                "\r\n",
                "GO"
            ],
            "metadata": {
                "azdata_cell_guid": "3fb95dd5-7738-4192-9989-fdbef27fc1d6",
                "language": "sql"
            },
            "outputs": [],
            "execution_count": null
        },
        {
            "cell_type": "markdown",
            "source": [
                "## 2\\. Send invoices from step 1 to SAP\n",
                "In AdvanTex, use the \"run module\" function (CTRL + R) and run the following module call. For other companies replace the third parameter (5260) with the correct company id. This sends the invoices as prepared in step 1 to SAP.  \n",
                "Results can be check in the Webservice-Log - Menu: **_\"Werkzeuge → Schnittstellen → Kundendaten-SAP-Schnittstelle: Webservice-Protokoll\"_**\n",
                "```\n",
                "SAPINVOICESEND;19800101;-7;-1;__RechKoSofortSAPmanuell\n",
                "```"
            ],
            "metadata": {
                "azdata_cell_guid": "614b79b1-2a39-45ce-a2ed-6a114292e62c"
            }
        }
    ]
}