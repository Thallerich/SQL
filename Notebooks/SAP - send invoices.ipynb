{
    "metadata": {
        "kernelspec": {
            "name": "SQL",
            "display_name": "SQL",
            "language": "sql"
        },
        "language_info": {
            "name": "sql",
            "version": ""
        }
    },
    "nbformat_minor": 2,
    "nbformat": 4,
    "cells": [
        {
            "cell_type": "markdown",
            "source": [
                "## 1a. Prepare invoices for manual sending"
            ],
            "metadata": {
                "azdata_cell_guid": "3d1b25d1-837f-4144-83dc-94aa846bcaa3"
            },
            "attachments": {}
        },
        {
            "cell_type": "code",
            "source": [
                "IF OBJECT_ID(N'Salesianer.dbo.__RechKoSofortSAPmanuell') IS NULL\r\n",
                "BEGIN\r\n",
                "  CREATE TABLE Salesianer.dbo.__RechKoSofortSAPmanuell (\r\n",
                "    ID int PRIMARY KEY CLUSTERED\r\n",
                "  );\r\n",
                "END ELSE BEGIN\r\n",
                "  TRUNCATE TABLE Salesianer.dbo.__RechKoSofortSAPmanuell;\r\n",
                "END;\r\n",
                "\r\n",
                "GO\r\n",
                "\r\n",
                "DECLARE @RechNr TABLE (\r\n",
                "  RechNr int\r\n",
                ");\r\n",
                "\r\n",
                "/* +++++++++++++++++++++++++++++++++++++++++++++++++++++++++++++++ */\r\n",
                "/* ++ Set table variable to specific invoice numbers!           ++ */\r\n",
                "/* +++++++++++++++++++++++++++++++++++++++++++++++++++++++++++++++ */\r\n",
                "INSERT INTO @RechNr VALUES (1710003893);\r\n",
                "\r\n",
                "INSERT INTO Salesianer.dbo.__RechKoSofortSAPmanuell\r\n",
                "SELECT RechKo.ID\r\n",
                "FROM Salesianer.dbo.RechKo\r\n",
                "WHERE RechKo.FibuExpID = -1\r\n",
                "  AND RechKo.Status >= N'N'\r\n",
                "  AND RechKo.Status < N'X'\r\n",
                "  AND RechKo.RechNr IN (\r\n",
                "    SELECT RechNr\r\n",
                "    FROM @RechNr\r\n",
                "  );\r\n",
                "\r\n",
                "GO"
            ],
            "metadata": {
                "azdata_cell_guid": "3fb95dd5-7738-4192-9989-fdbef27fc1d6",
                "language": "sql"
            },
            "outputs": [],
            "execution_count": null
        },
        {
            "cell_type": "markdown",
            "source": [
                "## 1b. Prepare invoices for manual sending (with external invoice number)"
            ],
            "metadata": {
                "azdata_cell_guid": "456c6404-f5eb-4ff1-b6d9-f57209d7d8ac"
            },
            "attachments": {}
        },
        {
            "cell_type": "code",
            "source": [
                "IF OBJECT_ID(N'Salesianer.dbo.__RechKoSofortSAPmanuell') IS NULL\r\n",
                "BEGIN\r\n",
                "  CREATE TABLE Salesianer.dbo.__RechKoSofortSAPmanuell (\r\n",
                "    ID int PRIMARY KEY CLUSTERED\r\n",
                "  );\r\n",
                "END ELSE BEGIN\r\n",
                "  TRUNCATE TABLE Salesianer.dbo.__RechKoSofortSAPmanuell;\r\n",
                "END;\r\n",
                "\r\n",
                "GO\r\n",
                "\r\n",
                "DECLARE @RechNr TABLE (\r\n",
                "  ExtRechNr nvarchar(20) COLLATE Latin1_General_CS_AS\r\n",
                ");\r\n",
                "\r\n",
                "/* +++++++++++++++++++++++++++++++++++++++++++++++++++++++++++++++ */\r\n",
                "/* ++ Set table variable to specific invoice numbers!           ++ */\r\n",
                "/* +++++++++++++++++++++++++++++++++++++++++++++++++++++++++++++++ */\r\n",
                "INSERT INTO @RechNr VALUES ('R-0834-2024');\r\n",
                "\r\n",
                "INSERT INTO Salesianer.dbo.__RechKoSofortSAPmanuell\r\n",
                "SELECT RechKo.ID\r\n",
                "FROM Salesianer.dbo.RechKo\r\n",
                "WHERE RechKo.FibuExpID = -1\r\n",
                "  AND RechKo.Status >= N'N'\r\n",
                "  AND RechKo.Status < N'X'\r\n",
                "  AND RechKo.ExtRechNr IN (\r\n",
                "    SELECT ExtRechNr\r\n",
                "    FROM @RechNr\r\n",
                "  );\r\n",
                "\r\n",
                "GO"
            ],
            "metadata": {
                "azdata_cell_guid": "ab9e72dd-9f83-4e01-9a96-c721c195ee43",
                "language": "sql"
            },
            "outputs": [],
            "execution_count": null
        },
        {
            "cell_type": "markdown",
            "source": [
                "## 2\\. Send invoices from step 1 to SAP\n",
                "In AdvanTex, use the \"run module\" function (CTRL + R) and run the following module call. For other companies replace the third parameter (5260) with the correct company id. This sends the invoices as prepared in step 1 to SAP.  \n",
                "Results can be check in the Webservice-Log - Menu: **_\"Werkzeuge → Schnittstellen → Kundendaten-SAP-Schnittstelle: Webservice-Protokoll\"_**\n",
                "```\n",
                "SAPINVOICESEND;19800101;-7;-1;__RechKoSofortSAPmanuell\n",
                "```"
            ],
            "metadata": {
                "azdata_cell_guid": "614b79b1-2a39-45ce-a2ed-6a114292e62c"
            }
        }
    ]
}