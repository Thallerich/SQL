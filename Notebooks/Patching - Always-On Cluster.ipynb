{
    "metadata": {
        "kernelspec": {
            "name": "SQL",
            "display_name": "SQL",
            "language": "sql"
        },
        "language_info": {
            "name": "sql",
            "version": ""
        }
    },
    "nbformat_minor": 2,
    "nbformat": 4,
    "cells": [
        {
            "cell_type": "markdown",
            "source": [
                "# Always-On Cluster Patching"
            ],
            "metadata": {
                "azdata_cell_guid": "190d39a2-5e29-4bc7-8ea1-101b69e478f6"
            },
            "attachments": {}
        },
        {
            "cell_type": "markdown",
            "source": [
                "## 1\\. Failover-Mode → Manual\n",
                "\n",
                "do on primary node"
            ],
            "metadata": {
                "azdata_cell_guid": "aac4e0cf-3f4e-433a-860d-1abd09e81f35"
            },
            "attachments": {}
        },
        {
            "cell_type": "code",
            "source": [
                "ALTER AVAILABILITY GROUP [SQL1AG-01]\r\n",
                "MODIFY REPLICA ON N'SVATSMWSQL1\\SQL1' WITH (FAILOVER_MODE = MANUAL)\r\n",
                "GO\r\n",
                "ALTER AVAILABILITY GROUP [SQL1AG-01]\r\n",
                "MODIFY REPLICA ON N'SVATSMWSQL2\\SQL1' WITH (FAILOVER_MODE = MANUAL)\r\n",
                "GO\r\n",
                "\r\n",
                "ALTER AVAILABILITY GROUP [SQL1AG-03]\r\n",
                "MODIFY REPLICA ON N'SVATSMWSQL1\\SQL1' WITH (FAILOVER_MODE = MANUAL)\r\n",
                "GO\r\n",
                "ALTER AVAILABILITY GROUP [SQL1AG-03]\r\n",
                "MODIFY REPLICA ON N'SVATSMWSQL2\\SQL1' WITH (FAILOVER_MODE = MANUAL)\r\n",
                "GO\r\n",
                "\r\n",
                "ALTER AVAILABILITY GROUP [SQL1AG-04]\r\n",
                "MODIFY REPLICA ON N'SVATSMWSQL1\\SQL1' WITH (FAILOVER_MODE = MANUAL)\r\n",
                "GO\r\n",
                "ALTER AVAILABILITY GROUP [SQL1AG-04]\r\n",
                "MODIFY REPLICA ON N'SVATSMWSQL2\\SQL1' WITH (FAILOVER_MODE = MANUAL)\r\n",
                "GO\r\n",
                "\r\n",
                "ALTER AVAILABILITY GROUP [SQL1AG-05]\r\n",
                "MODIFY REPLICA ON N'SVATSMWSQL1\\SQL1' WITH (FAILOVER_MODE = MANUAL)\r\n",
                "GO\r\n",
                "ALTER AVAILABILITY GROUP [SQL1AG-05]\r\n",
                "MODIFY REPLICA ON N'SVATSMWSQL2\\SQL1' WITH (FAILOVER_MODE = MANUAL)\r\n",
                "GO\r\n",
                "\r\n",
                "ALTER AVAILABILITY GROUP [SQL1AG-06]\r\n",
                "MODIFY REPLICA ON N'SVATSMWSQL1\\SQL1' WITH (FAILOVER_MODE = MANUAL)\r\n",
                "GO\r\n",
                "ALTER AVAILABILITY GROUP [SQL1AG-06]\r\n",
                "MODIFY REPLICA ON N'SVATSMWSQL2\\SQL1' WITH (FAILOVER_MODE = MANUAL)\r\n",
                "GO\r\n",
                "\r\n",
                "ALTER AVAILABILITY GROUP [SQL1AG-07]\r\n",
                "MODIFY REPLICA ON N'SVATSMWSQL1\\SQL1' WITH (FAILOVER_MODE = MANUAL)\r\n",
                "GO\r\n",
                "ALTER AVAILABILITY GROUP [SQL1AG-07]\r\n",
                "MODIFY REPLICA ON N'SVATSMWSQL2\\SQL1' WITH (FAILOVER_MODE = MANUAL)\r\n",
                "GO"
            ],
            "metadata": {
                "azdata_cell_guid": "25cd01a9-9893-4e30-92fa-86a45779d381",
                "language": "sql"
            },
            "outputs": [],
            "execution_count": null
        },
        {
            "cell_type": "markdown",
            "source": [
                "## 2\\. Suspend data movement\n",
                "\n",
                "do on secondary node"
            ],
            "metadata": {
                "azdata_cell_guid": "596a8411-ba5e-4fe8-abaf-2e0fd56e54d1"
            },
            "attachments": {}
        },
        {
            "cell_type": "code",
            "source": [
                "ALTER DATABASE [confluence] SET HADR SUSPEND;\r\n",
                "GO\r\n",
                "ALTER DATABASE [BMD] SET HADR SUSPEND;\r\n",
                "GO\r\n",
                "ALTER DATABASE [DsPcDb] SET HADR SUSPEND;\r\n",
                "GO\r\n",
                "ALTER DATABASE [IF6040_AS_Salesianer] SET HADR SUSPEND;\r\n",
                "GO\r\n",
                "ALTER DATABASE [LTM] SET HADR SUSPEND;\r\n",
                "GO\r\n",
                "ALTER DATABASE [MGMTTool] SET HADR SUSPEND;\r\n",
                "GO"
            ],
            "metadata": {
                "azdata_cell_guid": "b79c2caf-4243-41ef-b1a2-68c19dae8f9d",
                "language": "sql"
            },
            "outputs": [],
            "execution_count": null
        },
        {
            "cell_type": "markdown",
            "source": [
                "## 3\\. Apply patches and restart server on secondary node"
            ],
            "metadata": {
                "azdata_cell_guid": "074110b7-09f4-41a9-9150-d67ef3de1ca9"
            },
            "attachments": {}
        },
        {
            "cell_type": "markdown",
            "source": [
                "## 4\\. Resume data movement and wait for synchronzied status for all databases\n",
                "\n",
                "do on secondary node"
            ],
            "metadata": {
                "azdata_cell_guid": "ff4d0f0e-6a21-44e9-bfe0-7e8fa4b67640"
            },
            "attachments": {}
        },
        {
            "cell_type": "code",
            "source": [
                "ALTER DATABASE [confluence] SET HADR RESUME;\r\n",
                "GO\r\n",
                "ALTER DATABASE [BMD] SET HADR RESUME;\r\n",
                "GO\r\n",
                "ALTER DATABASE [DsPcDb] SET HADR RESUME;\r\n",
                "GO\r\n",
                "ALTER DATABASE [IF6040_AS_Salesianer] SET HADR RESUME;\r\n",
                "GO\r\n",
                "ALTER DATABASE [LTM] SET HADR RESUME;\r\n",
                "GO\r\n",
                "ALTER DATABASE [MGMTTool] SET HADR RESUME;\r\n",
                "GO"
            ],
            "metadata": {
                "azdata_cell_guid": "22880941-90db-436a-8bdb-19e5bf068199",
                "language": "sql"
            },
            "outputs": [],
            "execution_count": null
        },
        {
            "cell_type": "markdown",
            "source": [
                "## 5\\. Perform failover\n",
                "\n",
                "do on secondary node - which becomes new primary after failover"
            ],
            "metadata": {
                "azdata_cell_guid": "5f5a62ab-35be-43dc-9f0b-fbd7250cf737"
            },
            "attachments": {}
        },
        {
            "cell_type": "code",
            "source": [
                "ALTER AVAILABILITY GROUP [SQL1AG-01] FAILOVER;\r\n",
                "GO\r\n",
                "ALTER AVAILABILITY GROUP [SQL1AG-03] FAILOVER;\r\n",
                "GO\r\n",
                "ALTER AVAILABILITY GROUP [SQL1AG-04] FAILOVER;\r\n",
                "GO\r\n",
                "ALTER AVAILABILITY GROUP [SQL1AG-05] FAILOVER;\r\n",
                "GO\r\n",
                "ALTER AVAILABILITY GROUP [SQL1AG-06] FAILOVER;\r\n",
                "GO\r\n",
                "ALTER AVAILABILITY GROUP [SQL1AG-07] FAILOVER;\r\n",
                "GO"
            ],
            "metadata": {
                "azdata_cell_guid": "09c4120c-a2af-4a0d-949b-fd6c6a608cf8",
                "language": "sql"
            },
            "outputs": [],
            "execution_count": null
        },
        {
            "cell_type": "markdown",
            "source": [
                "## 6\\. Repeat steps 2 - 4 for new secondary node"
            ],
            "metadata": {
                "azdata_cell_guid": "c8e21a04-74b6-4b43-8f95-252c819f371c"
            },
            "attachments": {}
        },
        {
            "cell_type": "markdown",
            "source": [
                "## 7\\. Failover-Mode → Automatic\n",
                "\n",
                "do on primary node"
            ],
            "metadata": {
                "azdata_cell_guid": "4b6f6f51-b948-4099-8c9b-fc75990e1271"
            },
            "attachments": {}
        },
        {
            "cell_type": "code",
            "source": [
                "ALTER AVAILABILITY GROUP [SQL1AG-01]\r\n",
                "MODIFY REPLICA ON N'SVATSMWSQL1\\SQL1' WITH (FAILOVER_MODE = AUTOMATIC)\r\n",
                "GO\r\n",
                "ALTER AVAILABILITY GROUP [SQL1AG-01]\r\n",
                "MODIFY REPLICA ON N'SVATSMWSQL2\\SQL1' WITH (FAILOVER_MODE = AUTOMATIC)\r\n",
                "GO\r\n",
                "\r\n",
                "ALTER AVAILABILITY GROUP [SQL1AG-03]\r\n",
                "MODIFY REPLICA ON N'SVATSMWSQL1\\SQL1' WITH (FAILOVER_MODE = AUTOMATIC)\r\n",
                "GO\r\n",
                "ALTER AVAILABILITY GROUP [SQL1AG-03]\r\n",
                "MODIFY REPLICA ON N'SVATSMWSQL2\\SQL1' WITH (FAILOVER_MODE = AUTOMATIC)\r\n",
                "GO\r\n",
                "\r\n",
                "ALTER AVAILABILITY GROUP [SQL1AG-04]\r\n",
                "MODIFY REPLICA ON N'SVATSMWSQL1\\SQL1' WITH (FAILOVER_MODE = AUTOMATIC)\r\n",
                "GO\r\n",
                "ALTER AVAILABILITY GROUP [SQL1AG-04]\r\n",
                "MODIFY REPLICA ON N'SVATSMWSQL2\\SQL1' WITH (FAILOVER_MODE = AUTOMATIC)\r\n",
                "GO\r\n",
                "\r\n",
                "ALTER AVAILABILITY GROUP [SQL1AG-05]\r\n",
                "MODIFY REPLICA ON N'SVATSMWSQL1\\SQL1' WITH (FAILOVER_MODE = AUTOMATIC)\r\n",
                "GO\r\n",
                "ALTER AVAILABILITY GROUP [SQL1AG-05]\r\n",
                "MODIFY REPLICA ON N'SVATSMWSQL2\\SQL1' WITH (FAILOVER_MODE = AUTOMATIC)\r\n",
                "GO\r\n",
                "\r\n",
                "ALTER AVAILABILITY GROUP [SQL1AG-06]\r\n",
                "MODIFY REPLICA ON N'SVATSMWSQL1\\SQL1' WITH (FAILOVER_MODE = AUTOMATIC)\r\n",
                "GO\r\n",
                "ALTER AVAILABILITY GROUP [SQL1AG-06]\r\n",
                "MODIFY REPLICA ON N'SVATSMWSQL2\\SQL1' WITH (FAILOVER_MODE = AUTOMATIC)\r\n",
                "GO\r\n",
                "\r\n",
                "ALTER AVAILABILITY GROUP [SQL1AG-07]\r\n",
                "MODIFY REPLICA ON N'SVATSMWSQL1\\SQL1' WITH (FAILOVER_MODE = AUTOMATIC)\r\n",
                "GO\r\n",
                "ALTER AVAILABILITY GROUP [SQL1AG-07]\r\n",
                "MODIFY REPLICA ON N'SVATSMWSQL2\\SQL1' WITH (FAILOVER_MODE = AUTOMATIC)\r\n",
                "GO"
            ],
            "metadata": {
                "azdata_cell_guid": "18bfda8b-06d1-4fd5-a000-e4b501057e64",
                "language": "sql"
            },
            "outputs": [],
            "execution_count": null
        }
    ]
}