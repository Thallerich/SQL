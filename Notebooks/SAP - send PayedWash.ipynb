{
    "metadata": {
        "kernelspec": {
            "name": "SQL",
            "display_name": "SQL",
            "language": "sql"
        },
        "language_info": {
            "name": "sql",
            "version": ""
        }
    },
    "nbformat_minor": 2,
    "nbformat": 4,
    "cells": [
        {
            "cell_type": "markdown",
            "source": [
                "### **Rechnung + Waschlohn (Lieferscheine) für interne Kunden als erledigt markieren. Diese werden nicht an SAP übertragen.**"
            ],
            "metadata": {
                "azdata_cell_guid": "c468e127-89cf-4699-94f9-d38c56d1431b"
            }
        },
        {
            "cell_type": "code",
            "source": [
                "USE Salesianer;\r\n",
                "GO\r\n",
                "\r\n",
                "-- leere Lieferscheine bzgl. SAP-Übergabe erledigen\r\n",
                "UPDATE LsKo SET InternKalkFix = 1, SentToSAP = -1\r\n",
                "WHERE LsKo.Status >= 'Q'\r\n",
                "  AND NOT EXISTS (SELECT LsPo.ID FROM LsPo WHERE LsPo.LsKoID = LsKo.ID AND  LsPo.Menge <> 0)\r\n",
                "  AND (LsKo.SentToSAP = 0 OR LsKo.InternKalkFix = 0)\r\n",
                "  AND LsKo.Datum < CAST(GETDATE() AS date);\r\n",
                "\r\n",
                "GO\r\n",
                "\r\n",
                "-- Lieferscheine/Waschlöhne von internen Kunden bzgl. SAP-Übergabe erledigen\r\n",
                "UPDATE LsKo SET InternKalkFix = 1, SentToSAP = -1\r\n",
                "FROM vsa, kunden\r\n",
                "WHERE lsko.VsaID = vsa.id\r\n",
                "  AND vsa.kundenid = kunden.id\r\n",
                "  AND LsKo.Status >= 'Q'\r\n",
                "  AND (LsKo.SentToSAP = 0 OR LsKo.InternKalkFix = 0)\r\n",
                "  AND kunden.KdGfID NOT IN (SELECT ID FROM KdGf WHERE KurzBez IN (N'MED', N'GAST', N'JOB', N'SAEU', N'BM', N'RT', N'MIC'));\r\n",
                "\r\n",
                "GO\r\n",
                "\r\n",
                "-- Rechnungen von internen Kunden bzgl. SAP-Übergabe erledigen\r\n",
                "UPDATE RechKo SET FiBuExpID = -2\r\n",
                "FROM Kunden\r\n",
                "WHERE RechKo.kundenID = Kunden.ID\r\n",
                "  AND RechKo.FiBuExpID = -1\r\n",
                "  AND RechKo.Status >= 'F'\r\n",
                "  AND kunden.KdGfID NOT IN (SELECT ID FROM KdGf WHERE KurzBez IN (N'MED', N'GAST', N'JOB', N'SAEU', N'BM', N'RT', N'MIC'));\r\n",
                "\r\n",
                "GO"
            ],
            "metadata": {
                "azdata_cell_guid": "3520b523-b988-4ab6-8471-c4306de6c1c4",
                "tags": [
                    "hide_input"
                ],
                "language": "sql"
            },
            "outputs": [],
            "execution_count": null
        },
        {
            "cell_type": "markdown",
            "source": [
                "### **Lieferscheine: fehlende Standorte nach-ermitteln und eintragen**"
            ],
            "metadata": {
                "azdata_cell_guid": "52072f7f-7af0-4055-a251-5f90ce11c9a8"
            }
        },
        {
            "cell_type": "code",
            "source": [
                "USE Salesianer;\r\n",
                "GO\r\n",
                "\r\n",
                "DROP TABLE IF EXISTS #LsStandort;\r\n",
                "GO\r\n",
                "\r\n",
                "SELECT LsKo.ID LsKoID, LsKo.FahrtID, LsPo.ID LsPoID, LsKo.VsaID, LsPo.ProduktionID, Fahrt.ExpeditionID, KdBer.BereichID, Fahrt.ExpeditionID newExpeditionID,  LsPo.ProduktionID newProduktionID\r\n",
                "INTO #LsStandort\r\n",
                "FROM lsko, LsPo, Fahrt, KdArti, KDBer, Vsa\r\n",
                "WHERE Lsko.senttosap = 0\r\n",
                "  AND LsKo.Status >= 'Q'\r\n",
                "  AND LsPo.LskoID = LsKo.ID\r\n",
                "  AND LsKo.FahrtID = Fahrt.ID\r\n",
                "  AND LsPo.KdArtiID = KdArti.ID\r\n",
                "  AND KdArti.KdBerID = KdBer.ID\r\n",
                "  AND LsKo.VsaID = Vsa.ID\r\n",
                "  AND (Fahrt.ExpeditionID = -1 OR LsPo.ProduktionID = -1);\r\n",
                "\r\n",
                "UPDATE #LsStandort SET newExpeditionID = StandBer.ExpeditionID\r\n",
                "FROM StandBer, Vsa\r\n",
                "WHERE Vsa.ID = #LsStandort.VsaID\r\n",
                "  AND StandBer.StandKonID = Vsa.StandKonID\r\n",
                "  AND StandBer.BereichID = #LsStandort.BereichID\r\n",
                "  AND #LsStandort.ExpeditionID = -1;\r\n",
                "\r\n",
                "UPDATE #LsStandort SET newProduktionID = StandBer.ProduktionID\r\n",
                "FROM StandBer, Vsa\r\n",
                "WHERE Vsa.ID = #LsStandort.VsaID\r\n",
                "  AND StandBer.StandKonID = Vsa.StandKonID\r\n",
                "  AND StandBer.BereichID = #LsStandort.BereichID\r\n",
                "  AND #LsStandort.ExpeditionID = -1;\r\n",
                "\r\n",
                "UPDATE #LsStandort SET newProduktionID = Kunden.StandortID\r\n",
                "FROM Kunden, VSA\r\n",
                "WHERE #LsStandort.VsaID = Vsa.ID\r\n",
                "  AND Vsa.KundenID = Kunden.ID\r\n",
                "  AND #LsStandort.newProduktionID = -1;\r\n",
                " \r\n",
                "UPDATE #LsStandort SET newExpeditionID = Kunden.StandortID\r\n",
                "FROM Kunden, VSA\r\n",
                "WHERE #LsStandort.VsaID = Vsa.ID\r\n",
                "  AND Vsa.KundenID = Kunden.ID\r\n",
                "  AND #LsStandort.newExpeditionID = -1;\r\n",
                "\r\n",
                "UPDATE LsPo SET ProduktionID = newProduktionID\r\n",
                "FROM #LsStandort\r\n",
                "WHERE #LsStandort.LsPoID = LsPo.ID\r\n",
                "  AND LsPo.ProduktionID <> newProduktionID;\r\n",
                " \r\n",
                "UPDATE Fahrt SET ExpeditionID = newExpeditionID\r\n",
                "FROM #LsStandort\r\n",
                "WHERE #LsStandort.FahrtID = Fahrt.ID\r\n",
                "  AND Fahrt.ID > 0\r\n",
                "  AND Fahrt.ExpeditionID <> newExpeditionID;\r\n",
                " \r\n",
                "INSERT INTO Fahrt (PlanDatum, UrDatum, TourenID, ExpeditionID, AnlageUserID_)\r\n",
                "SELECT DISTINCT LsKo.Datum, LsKo.Datum, LsKo.TourenID, newExpeditionID, 8888\r\n",
                "FROM #LsStandort, LsKo\r\n",
                "WHERE LsKo.ID = #LsStandort.LskoID\r\n",
                "  AND #LsStandort.FahrtID = -1;\r\n",
                "\r\n",
                "UPDATE LsKo SET FahrtID = Fahrt.ID\r\n",
                "FROM #LsStandort, Fahrt\r\n",
                "WHERE LsKo.ID = #LsStandort.LskoID\r\n",
                "  AND LsKo.FahrtID = -1\r\n",
                "  AND Fahrt.PlanDatum = LsKo.Datum\r\n",
                "  AND Fahrt.TourenID = LsKo.TourenID\r\n",
                "  AND Fahrt.AnlageUserID_ = 8888;\r\n",
                "\r\n",
                "GO"
            ],
            "metadata": {
                "azdata_cell_guid": "0c0ac5ec-7f08-459b-a532-b83ee65a0a3f",
                "tags": [
                    "hide_input"
                ],
                "language": "sql"
            },
            "outputs": [],
            "execution_count": null
        },
        {
            "cell_type": "markdown",
            "source": [
                "### **Waschlohn ausrechnen**\n",
                "\n",
                "Modul-Aufruf im AdvanTex: INKALKAPPLY;20210101;20210430  \n",
                "Datumswerte entsprechend anpassen!"
            ],
            "metadata": {
                "azdata_cell_guid": "73da0c56-7081-4981-80af-b3f9b41aa82b"
            }
        },
        {
            "cell_type": "markdown",
            "source": [
                "### **Waschlohn fixieren**\n",
                "\n",
                "Modul-Aufruf im AdvanTex: INKALKFIX;20210101;20210430  \n",
                "Datumswerte entsprechend anpassen!"
            ],
            "metadata": {
                "azdata_cell_guid": "808b7771-32e9-4986-919e-a593b8846f28"
            }
        },
        {
            "cell_type": "markdown",
            "source": [
                "### **Lieferscheine für Waschlohn-Übertragung in einen Zwischentabelle schreiben**"
            ],
            "metadata": {
                "azdata_cell_guid": "98068492-5baa-43af-9e5b-4604cc19052a"
            }
        },
        {
            "cell_type": "code",
            "source": [
                "USE Salesianer;\r\n",
                "GO\r\n",
                "\r\n",
                "IF OBJECT_ID(N'__LsInKalk') IS NOT NULL\r\n",
                "  TRUNCATE TABLE __LsInKalk;\r\n",
                "ELSE\r\n",
                "  CREATE TABLE __LsInKalk (\r\n",
                "    ID int\r\n",
                "  );\r\n",
                "\r\n",
                "DECLARE @LsKo TABLE (\r\n",
                "  ID int PRIMARY KEY,\r\n",
                "  [Status] nchar(1),\r\n",
                "  VsaID int\r\n",
                ");\r\n",
                "\r\n",
                "INSERT INTO @LsKo (ID, [Status], VsaID)\r\n",
                "SELECT LsKo.ID, LsKo.[Status], LsKo.VsaID\r\n",
                "FROM LsKo\r\n",
                "WHERE LsKo.[Status] >= N'Q'\r\n",
                "  AND LsKo.SentToSAP = 0\r\n",
                "  AND LsKo.InternKalkFix = 1\r\n",
                "  AND (LEFT(LsKo.Referenz, 7) != N'INTERN_' OR LsKo.Referenz IS NULL) /* Umlagerungs-LS ausnehmen, diese werden vom Modul SAPSENDSTOCKTRANSACTION übertragen */\r\n",
                ";\r\n",
                "\r\n",
                "INSERT INTO __LsInKalk (ID)\r\n",
                "SELECT LsKo.ID\r\n",
                "FROM @LsKo LsKo\r\n",
                "JOIN Vsa ON LsKo.VsaID = Vsa.ID\r\n",
                "JOIN Kunden ON Vsa.KundenID = Kunden.ID\r\n",
                "JOIN KdGf ON Kunden.KdGFID = KdGf.ID\r\n",
                "JOIN Firma ON Kunden.FirmaID = Firma.ID\r\n",
                "WHERE (\r\n",
                "    (Firma.SuchCode = N'FA14' AND KdGf.KurzBez IN (N'MED', N'GAST', N'JOB', N'SAEU', N'BM', N'RT', N'MIC'))\r\n",
                "    OR\r\n",
                "    (Firma.SuchCode IN (N'SMP', N'SMKR', N'SMSK', N'SMRO', N'BUDA', N'SMRS', N'SMSL',N'SMHR', N'SMPL'))\r\n",
                "  );\r\n",
                "\r\n",
                "GO"
            ],
            "metadata": {
                "azdata_cell_guid": "eb2d2876-caf8-4135-9985-818b096f59a4",
                "tags": [
                    "hide_input"
                ],
                "language": "sql"
            },
            "outputs": [],
            "execution_count": null
        },
        {
            "cell_type": "markdown",
            "source": [
                "### **Waschlohn übertragen**\n",
                "\n",
                "Modul-Aufruf im AdvanTex: INKALKSEND;20210101;20210430;\\_\\_LsInKalk  \n",
                "Datumswerte entsprechend anpassen!"
            ],
            "metadata": {
                "azdata_cell_guid": "836d9402-10e2-4692-a822-712a9deb339a"
            }
        }
    ]
}