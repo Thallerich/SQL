{
    "metadata": {
        "kernelspec": {
            "name": "SQL",
            "display_name": "SQL",
            "language": "sql"
        },
        "language_info": {
            "name": "sql",
            "version": ""
        }
    },
    "nbformat_minor": 2,
    "nbformat": 4,
    "cells": [
        {
            "cell_type": "markdown",
            "source": [
                "# AdvanTex - manually update to latest release\n",
                "\n",
                "- Download latest release from [MyAdvanTex](https://www.myadvantex.com/)\n",
                "- Launch and extract using installer; find file \"update.zip\" in \"Data\\\\Temp\" directory and extract\n",
                "- Save necessary data in backup tables"
            ],
            "metadata": {
                "azdata_cell_guid": "45a4b687-7646-4414-97ac-709312b532c7"
            }
        },
        {
            "cell_type": "code",
            "source": [
                "-- backup table \"Mandant\"\r\n",
                "USE Master\r\n",
                "GO\r\n",
                "\r\n",
                "SELECT Mandant.ID, Mandant.Bez, Mandant.ConnectPath, Mandant.TestMandant, Mandant.Verfuegbar, Mandant.Anlage_, Mandant.FertigEingespielt, Mandant.DataPath, Mandant.SQLConvertDateFormat, Mandant.SQLConvertTimeFormat \r\n",
                "INTO _Mandant \r\n",
                "FROM dbSystem.dbo.Mandant;\r\n",
                "\r\n",
                "-- Backup Users\r\n",
                "USE dbSystem\r\n",
                "GO\r\n",
                "\r\n",
                "SELECT db.name\r\n",
                "INTO _User\r\n",
                "FROM sys.database_principals db, sys.server_principals s \r\n",
                "WHERE (db.Type = 'S' -- SQL_USER\r\n",
                "    OR db.Type = 'G' -- Windows Group\r\n",
                "    OR db.Type = 'U' -- Windows User\r\n",
                "  ) \r\n",
                "  AND db.sid = s.sid;\r\n",
                "\r\n",
                "GO\r\n",
                "\r\n",
                "USE Master\r\n",
                "GO\r\n",
                "\r\n",
                "SELECT * INTO _User FROM dbSystem.dbo._User;\r\n",
                "GO"
            ],
            "metadata": {
                "azdata_cell_guid": "3412c18d-8163-4bdc-92ce-eac19e19cf26"
            },
            "outputs": [],
            "execution_count": null
        },
        {
            "cell_type": "markdown",
            "source": [
                "- Restore DB \"dbsystem\" from downloaded release\n",
                "- Restore from backup tables"
            ],
            "metadata": {
                "azdata_cell_guid": "86b00993-0c3d-4b09-bb39-368d8545316d"
            }
        },
        {
            "cell_type": "code",
            "source": [
                "-- Restore date in table \"Mandant\"\r\n",
                "USE dbSystem\r\n",
                "GO\r\n",
                "\r\n",
                "TRUNCATE TABLE Mandant;\r\n",
                "GO\r\n",
                "\r\n",
                "INSERT INTO Mandant (ID, Bez, ConnectPath, TestMandant, Verfuegbar, Anlage_, FertigEingespielt, DataPath, SQLConvertDateFormat, SQLConvertTimeFormat)\r\n",
                "SELECT _Mandant.ID, _Mandant.Bez, _Mandant.ConnectPath, _Mandant.TestMandant, _Mandant.Verfuegbar, _Mandant.Anlage_, _Mandant.FertigEingespielt, _Mandant.DataPath, _Mandant.SQLConvertDateFormat, _Mandant.SQLConvertTimeFormat \r\n",
                "FROM Master.dbo._Mandant;\r\n",
                "\r\n",
                "GO\r\n",
                "\r\n",
                "-- Restore DB-Users\r\n",
                "-- Execute SQL, copy result set and execute those statements\r\n",
                "USE dbSystem\r\n",
                "GO\r\n",
                "\r\n",
                "SELECT 'CREATE USER [' + Name + '] FOR LOGIN [' + Name + '] WITH DEFAULT_SCHEMA = dbo; ' + char(13) + char(10) +\r\n",
                "  'ALTER ROLE db_accessadmin ADD MEMBER [' + Name + ']; ' + char(13) + char(10) +\r\n",
                "  'ALTER ROLE db_backupoperator ADD MEMBER [' + Name + ']; ' + char(13) + char(10) +\r\n",
                "  'ALTER ROLE db_datareader ADD MEMBER [' + Name + ']; ' + char(13) + char(10) +\r\n",
                "  'ALTER ROLE db_datawriter ADD MEMBER [' + Name + ']; ' + char(13) + char(10) +\r\n",
                "  'ALTER ROLE db_ddladmin ADD MEMBER [' + Name + ']; ' + char(13) + char(10) +\r\n",
                "  'ALTER ROLE db_securityadmin ADD MEMBER [' + Name + ']; ' + char(13) + char(10) +\r\n",
                "  'ALTER ROLE db_owner ADD MEMBER [' + Name + ']; ' + char(13) + char(10) +\r\n",
                "  'GRANT EXECUTE TO [' + Name + ']; ' + char(13) + char(10) +\r\n",
                "  'GRANT SUBSCRIBE QUERY NOTIFICATIONS TO [' + Name + '] ' \r\n",
                "FROM Master.dbo._User \r\n",
                "WHERE Upper(Name) <> 'ADSSYS'\r\n",
                "  AND Upper(Name) <> 'DBO';\r\n",
                "\r\n",
                "GO\r\n",
                "\r\n",
                "-- Re-activate Service Broker\r\n",
                "ALTER DATABASE [dbSystem] SET NEW_BROKER WITH ROLLBACK IMMEDIATE;\r\n",
                "GO\r\n",
                "\r\n",
                "-- Change db owner to \"adssys\"\r\n",
                "IF (SELECT COUNT(*) anz FROM sys.server_principals WHERE lower(name) = 'adssys') > 0 \r\n",
                "  ALTER AUTHORIZATION ON DATABASE::[dbSystem] TO ADSSYS;\r\n",
                "\r\n",
                "GO\r\n",
                "\r\n",
                "-- Cleanup master database\r\n",
                "USE Master\r\n",
                "GO\r\n",
                "\r\n",
                "DROP TABLE _Mandant;\r\n",
                "DROP TABLE _User;\r\n",
                "\r\n",
                "GO"
            ],
            "metadata": {
                "azdata_cell_guid": "0a45d235-1c02-415c-a4ee-799e8cab2050"
            },
            "outputs": [],
            "execution_count": null
        },
        {
            "cell_type": "markdown",
            "source": [
                "- Copy remaining files (.exe, .dll, report-files, ...) to folders overwriting existing files\n",
                "- Run AdvanTex"
            ],
            "metadata": {
                "azdata_cell_guid": "cc365f52-cb0f-4b8a-928e-01773467c759"
            }
        }
    ]
}