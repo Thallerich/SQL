{
    "metadata": {
        "kernelspec": {
            "name": "SQL",
            "display_name": "SQL",
            "language": "sql"
        },
        "language_info": {
            "name": "sql",
            "version": ""
        }
    },
    "nbformat_minor": 2,
    "nbformat": 4,
    "cells": [
        {
            "cell_type": "markdown",
            "source": [
                "# **Performance-Analyse**"
            ],
            "metadata": {
                "azdata_cell_guid": "d778df65-2393-4844-a4e2-50079779b334"
            },
            "attachments": {}
        },
        {
            "cell_type": "markdown",
            "source": [
                "## **Auflistung aller derzeit laufenden Queries**"
            ],
            "metadata": {
                "azdata_cell_guid": "ba46ad7f-3f1e-4bba-b73b-662ac27eabb5"
            },
            "attachments": {}
        },
        {
            "cell_type": "code",
            "source": [
                "EXEC sp_WhoIsActive;"
            ],
            "metadata": {
                "azdata_cell_guid": "de69b3da-fc22-4c9a-b85b-9338181384f1",
                "language": "sql"
            },
            "outputs": [],
            "execution_count": null
        },
        {
            "cell_type": "markdown",
            "source": [
                "Aufruf für AdvanTex-Live-System:"
            ],
            "metadata": {
                "azdata_cell_guid": "4265476c-f22e-4a9e-b631-ae61c9b2a9f7"
            },
            "attachments": {}
        },
        {
            "cell_type": "code",
            "source": [
                "EXEC Salesianer_Archive.dbo.sp_WhoIsActive;"
            ],
            "metadata": {
                "azdata_cell_guid": "ceb182f7-eca3-455b-86b7-40d3e5467d67",
                "language": "sql"
            },
            "outputs": [],
            "execution_count": null
        }
    ]
}