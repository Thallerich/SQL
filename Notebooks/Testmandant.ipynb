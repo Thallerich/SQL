{
    "metadata": {
        "kernelspec": {
            "name": "SQL",
            "display_name": "SQL",
            "language": "sql"
        },
        "language_info": {
            "name": "sql",
            "version": ""
        }
    },
    "nbformat_minor": 2,
    "nbformat": 4,
    "cells": [
        {
            "cell_type": "markdown",
            "source": [
                "Full backup of the live system using copy only mode"
            ],
            "metadata": {
                "azdata_cell_guid": "5affc596-42c4-46f6-bf37-39ded49ffb59"
            }
        },
        {
            "cell_type": "code",
            "source": [
                "BACKUP DATABASE Wozabal\r\n",
                "TO DISK = N'\\\\ATENVCENTER01.wozabal.int\\advbackup\\Wozabal.bak'\r\n",
                "WITH COPY_ONLY, COMPRESSION, INIT, SKIP, FORMAT, BUFFERCOUNT = 47, MAXTRANSFERSIZE = 4194304, MEDIANAME = N'AdvanTex-Backup', NAME = N'Full Backup of the AdvanTex-Database';"
            ],
            "metadata": {
                "azdata_cell_guid": "d7cd0d4b-de53-453a-b5f2-01b3813afc75"
            },
            "outputs": [],
            "execution_count": 0
        },
        {
            "cell_type": "markdown",
            "source": [
                "Restore this ackup as test database"
            ],
            "metadata": {
                "azdata_cell_guid": "24c734e3-bdaa-4468-bcbe-726f0517d93e"
            }
        },
        {
            "cell_type": "code",
            "source": [
                "DECLARE @TestExists bit = 0;\r\n",
                "\r\n",
                "IF db_id(N'Wozabal_Test') IS NOT NULL\r\n",
                "  SET @TestExists = 1;\r\n",
                "\r\n",
                "IF @TestExists = 1\r\n",
                "  ALTER DATABASE Wozabal_Test\r\n",
                "    SET SINGLE_USER\r\n",
                "  WITH ROLLBACK IMMEDIATE;\r\n",
                "\r\n",
                "RESTORE DATABASE Wozabal_Test\r\n",
                "FROM DISK = N'\\\\ATENVCENTER01.wozabal.int\\advbackup\\Wozabal.bak'\r\n",
                "WITH RECOVERY, REPLACE,\r\n",
                "  MOVE N'Wozabal' TO N'E:\\SQL Server\\MSSQL13.ADVANTEX\\MSSQL\\DATA\\Wozabal_Test.mdf',\r\n",
                "  MOVE N'Wozabal_Log' TO N'E:\\SQL Server\\MSSQL13.ADVANTEX\\MSSQL\\DATA\\Wozabal_Test_Log.mdf';\r\n",
                "\r\n",
                "IF @TestExists = 1\r\n",
                "  ALTER DATABASE Wozabal_Test\r\n",
                "    SET MULTI_USER\r\n",
                "  WITH ROLLBACK AFTER 60 SECONDS;"
            ],
            "metadata": {
                "azdata_cell_guid": "25157a52-c205-4517-8489-f826dd033cda"
            },
            "outputs": [],
            "execution_count": 0
        },
        {
            "cell_type": "markdown",
            "source": [
                "Shrink the transaction log - the test database doesn't need such a huge log"
            ],
            "metadata": {
                "azdata_cell_guid": "3a3d70d5-85e2-45a3-b049-b5ada2f98994"
            }
        },
        {
            "cell_type": "code",
            "source": [
                "DBCC SHRINKFILE (Wozabal_Log);"
            ],
            "metadata": {
                "azdata_cell_guid": "6ba3eff6-cecb-45d3-b4d4-2d691290cf8e"
            },
            "outputs": [],
            "execution_count": 0
        },
        {
            "cell_type": "markdown",
            "source": [
                "Alter Settings in the Test Database as to not interfere with the Live System"
            ],
            "metadata": {
                "azdata_cell_guid": "ec558758-859b-4849-8113-8f373f22bc44"
            }
        },
        {
            "cell_type": "code",
            "source": [
                "BEGIN TRANSACTION;\r\n",
                "  USE Wozabal_Test;\r\n",
                "\r\n",
                "  UPDATE Settings\r\n",
                "    SET [ValueMemo] = N'FFFF88'\r\n",
                "    WHERE [Parameter] = N'COLOR_BACKGROUND';\r\n",
                "\r\n",
                "  UPDATE Settings\r\n",
                "    SET [ValueMemo] = N'http://SRVATENADVTEST.wozabal.int/webportal_20/upload/index.php'\r\n",
                "    WHERE [Parameter] = N'INTERNET_IMPORT_PHP';\r\n",
                "    \r\n",
                "  UPDATE Settings\r\n",
                "    SET [ValueMemo] = N'http://SRVATENADVTEST.wozabal.int/webportal_20/upload/update.php'\r\n",
                "    WHERE [Parameter] = N'INTERNET_IMPORT_PHP2';\r\n",
                "    \r\n",
                "  UPDATE Settings\r\n",
                "    SET [ValueMemo] = N'_shadow'\r\n",
                "    WHERE [Parameter] = N'WEB_IMPORT_SHADOW';\r\n",
                "    \r\n",
                "  UPDATE Settings\r\n",
                "    SET [ValueMemo] = N'http://SRVATENADVTEST.wozabal.int/webportal_20/output/'\r\n",
                "    WHERE [Parameter] = N'INTERNET_OUTPUT';\t\r\n",
                "\r\n",
                "  UPDATE Settings\r\n",
                "    SET [ValueMemo] = N'/upload/data.sql'\r\n",
                "    WHERE [Parameter] = N'INTERNET_TEMP_SQL';\r\n",
                "\r\n",
                "  UPDATE Settings\r\n",
                "    SET [ValueMemo] = N'1763'\r\n",
                "    WHERE [Parameter] = N'WEBPORTAL_DOWNLOAD_PORT';\r\n",
                "    \r\n",
                "  UPDATE Settings\r\n",
                "    SET [ValueMemo] = N'http://SRVATENADVTEST.wozabal.int/webportal_20/'\r\n",
                "    WHERE [Parameter] = N'INTERNET_HTTP_URL';\r\n",
                "\r\n",
                "  UPDATE Settings\r\n",
                "    SET [ValueMemo] = N'a.wallas@salesianer.com'\r\n",
                "    WHERE [Parameter] = N'WEBEXPORT_EMAIL';\r\n",
                "    \r\n",
                "  UPDATE Settings\r\n",
                "    SET [ValueMemo] = N'SRVATENADVTEST.wozabal.int'\r\n",
                "    WHERE [Parameter] = N'INTERNET_FTP_HOST';\r\n",
                "\r\n",
                "  UPDATE Settings\r\n",
                "    SET [ValueMemo] = N'webportal20'\r\n",
                "    WHERE [Parameter] = N'INTERNET_FTP_USERNAME';\t\r\n",
                "    \r\n",
                "  UPDATE Settings\r\n",
                "    SET [ValueMemo] = N''\r\n",
                "    WHERE [Parameter] = N'WEB_UPLOAD_STARTED';\r\n",
                "    \r\n",
                "  UPDATE Settings\r\n",
                "    SET [ValueMemo] = N'\\\\ATENADVANTEX01.wozabal.int\\AdvanTex\\Data\\WebDB_Test\\'\r\n",
                "    WHERE [Parameter] = N'WEB_EXPORT_UPLOAD_PATH';\r\n",
                "\r\n",
                "  UPDATE Settings\r\n",
                "    SET [ValueMemo] = N'\\\\ATENADVANTEX01.wozabal.int\\AdvanTex\\Data\\Logos\\Wozabal_Miettex_Testsystem.bmp'\r\n",
                "    WHERE [Parameter] = N'LOGO1_PATH_UND_DATEINAME';\r\n",
                "    \r\n",
                "  UPDATE Settings\r\n",
                "    SET [ValueMemo] = N''\r\n",
                "    WHERE [Parameter] = N'LOGO2_PATH_UND_DATEINAME';\r\n",
                "    \r\n",
                "  UPDATE Settings\r\n",
                "    SET [ValueMemo] = N'\\\\ATENADVANTEX01.wozabal.int\\advantex\\data\\UHFInventur\\Testmandant\\'\r\n",
                "    WHERE [Parameter] = N'INVENTUR_UHF2_PATH';\r\n",
                "    \r\n",
                "  UPDATE Settings\r\n",
                "    SET [ValueMemo] = N'\\\\ATENADVANTEX01.wozabal.int\\advantex\\data\\UHFInventur\\Testmandant\\Archiv\\'\r\n",
                "    WHERE [Parameter] = N'INVENTUR_UHF2_BACKUP_PATH';\r\n",
                "    \r\n",
                "  UPDATE Settings\r\n",
                "    SET [ValueMemo] = N'\\\\ATENADVANTEX01.wozabal.int\\advantex\\Data\\Temp\\'\r\n",
                "    WHERE [Parameter] = N'PDF_SPOOL_PATH';\r\n",
                "    \r\n",
                "  UPDATE Settings\r\n",
                "    SET [ValueMemo] = N''\r\n",
                "    WHERE [Parameter] = N'CSV_FILENAME_INVENTURIMPORT';\r\n",
                "    \r\n",
                "  UPDATE Settings\r\n",
                "    SET [ValueMemo] = N'\\\\ATENADVANTEX01.wozabal.int\\advantex\\Data\\Temp\\'\r\n",
                "    WHERE [Parameter] = N'REPORT_EXPORT_PATH';\r\n",
                "    \r\n",
                "  UPDATE Settings\r\n",
                "    SET [ValueMemo] = N'http://SRVATENCITTS01.wozabal.int:8090/ConsignmentService.svc/SOAP'\r\n",
                "    WHERE [Parameter] = N'URL_WS_COUNTIT_CONSIGNMENT';\r\n",
                "\r\n",
                "  UPDATE Settings\r\n",
                "    SET [ValueMemo] = N'http://SRVATENCITTS01.wozabal.int:8090/SortingService.svc/SOAP'\r\n",
                "    WHERE [Parameter] = N'URL_WS_COUNTIT_SORTING';\r\n",
                "    \r\n",
                "  UPDATE Settings\r\n",
                "    SET [ValueMemo] = N'http://SRVATENCITTS01.wozabal.int:8090/UncleanSideService.svc/SOAP'\r\n",
                "    WHERE [Parameter] = N'URL_WS_COUNTIT_UNCLEANSIDE';\r\n",
                "    \r\n",
                "  UPDATE Settings\r\n",
                "    SET [ValueMemo] = N''\r\n",
                "    WHERE [Parameter] = N'URL_WS_TAGSYS';\r\n",
                "    \r\n",
                "  UPDATE Settings\r\n",
                "    SET [ValueMemo] = N'\\\\ATENADVANTEX01.wozabal.int\\advantex\\data\\EDI\\EDI_Test\\'\r\n",
                "    WHERE [Parameter] = N'PATH_EOFFICE';\r\n",
                "\r\n",
                "  UPDATE Settings\r\n",
                "    SET [ValueMemo] = N'\\\\ATENADVANTEX01.wozabal.int\\advantex\\data\\EDI\\BMD_Test\\'\r\n",
                "    WHERE [Parameter] = N'PATH_BMD';\r\n",
                "    \r\n",
                "  UPDATE Rentomat \r\n",
                "    SET ExportFile1 = N'\\\\ATENADVANTEX01.wozabal.int\\AdvanTex\\Data\\Export\\Test\\'\r\n",
                "    WHERE Rentomat.Interface <> 'Unimat';\r\n",
                "\r\n",
                "  UPDATE Rentomat \r\n",
                "    SET FtpUsername = N'noFTPonlyTest'\r\n",
                "    WHERE Rentomat.FtpUsername IS NOT NULL;\r\n",
                "\r\n",
                "  UPDATE Rentomat \r\n",
                "    SET ExportFile1 = REPLACE(ExportFile1, '192.168.4.26', '127.0.0.1')\r\n",
                "    WHERE Rentomat.Interface = N'Unimat';\r\n",
                "    \r\n",
                "  UPDATE ExpDef \r\n",
                "    SET ExportFileName = REPLACE(ExpDef.ExportFileName, N'\\fibu\\', N'\\fibu\\testmandant\\')\r\n",
                "    WHERE ExportFileName LIKE N'\\\\ATENADVANTEX01%';\r\n",
                "\r\n",
                "  UPDATE ExpDef\r\n",
                "    SET ExportFileName = REPLACE(ExpDef.ExportFileName, N'\\scp\\', N'\\scq\\')\r\n",
                "    WHERE ExportFileName LIKE N'\\\\tsafile1.sal.co.at%';\r\n",
                "\r\n",
                "  UPDATE ExpDef\r\n",
                "    SET BackupFolder = RTRIM(BackupFolder) + N'Testmandant\\'\r\n",
                "    WHERE RIGHT(RTRIM(BackupFolder), 1) = N'\\';\r\n",
                "\r\n",
                "  UPDATE Settings\r\n",
                "    SET ValueMemo = N'\\\\ATENADVANTEX01.wozabal.int\\AdvanTex\\Data\\Rechnungsarchiv_Testmandant\\'\r\n",
                "    WHERE Parameter = N'PATH_RECHARCH';\r\n",
                "\r\n",
                "  UPDATE RKoOut\r\n",
                "    SET ArchivePath = N'\\\\ATENADVANTEX01.wozabal.int\\AdvanTex\\Export\\Rechnungen_Testmandant\\'\r\n",
                "    WHERE ArchivePath IS NOT NULL;\r\n",
                "\r\n",
                "  UPDATE RKoOut\r\n",
                "    SET VersandPath = N'\\\\ATENADVANTEX01.wozabal.int\\AdvanTex\\Export\\Rechnungen_Testmandant\\'\r\n",
                "    WHERE VersandPath IS NOT NULL;\n",
                "\n",
                "  TRUNCATE TABLE Locking;\r\n",
                "\r\n",
                "COMMIT;"
            ],
            "metadata": {
                "azdata_cell_guid": "f80a85e9-8876-4a59-a3f3-d4f0cb595b35"
            },
            "outputs": [],
            "execution_count": 0
        }
    ]
}