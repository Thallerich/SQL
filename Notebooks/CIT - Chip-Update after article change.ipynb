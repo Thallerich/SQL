{
    "metadata": {
        "kernelspec": {
            "name": "SQL",
            "display_name": "SQL",
            "language": "sql"
        },
        "language_info": {
            "name": "sql",
            "version": ""
        }
    },
    "nbformat_minor": 2,
    "nbformat": 4,
    "cells": [
        {
            "cell_type": "markdown",
            "source": [
                "# Artikel-Update bei Chip-Teilen in Count-IT DB"
            ],
            "metadata": {
                "azdata_cell_guid": "359a20c1-7746-4af7-9d48-996c3daaaf8d"
            }
        },
        {
            "cell_type": "markdown",
            "source": [
                "## 1\\. Export data\n",
                "\n",
                "Run on: Main AdvanTex DB (SALADVPSQLC1A1.salres.com)  \n",
                "Extract all Chips for articles in use at specific customers.  \n",
                "Save the result as .csv file"
            ],
            "metadata": {
                "azdata_cell_guid": "3a50d40a-3258-4d51-b647-6f38e02d35d7"
            }
        },
        {
            "cell_type": "code",
            "source": [
                "SELECT OPTeile.Code, Artikel.ArtikelNr\r\n",
                "FROM Salesianer.dbo.OPTeile\r\n",
                "JOIN Salesianer.dbo.Artikel ON OPTeile.ArtikelID = Artikel.ID\r\n",
                "WHERE Artikel.ID IN (\r\n",
                "    SELECT DISTINCT KdArti.ArtikelID\r\n",
                "    FROM Salesianer.dbo.KdArti\r\n",
                "    JOIN Salesianer.dbo.Kunden ON KdArti.KundenID = Kunden.ID\r\n",
                "    WHERE Kunden.KdNr IN (10002413, 130042, 10001006, 10001137, 10001365, 10001367, 10001370, 212066, 10001363, 10004548, 10004549, 232257)\r\n",
                "  )\r\n",
                "  AND LEN(OPTeile.Code) = 24;\r\n",
                "\r\n",
                "GO"
            ],
            "metadata": {
                "azdata_cell_guid": "b264f8ff-1df5-41ff-9dae-98dad4596d84"
            },
            "outputs": [],
            "execution_count": null
        },
        {
            "cell_type": "markdown",
            "source": [
                "## 2\\. Import Data\n",
                "\n",
                "Import the data from the first script (from the saved .csv-file) into a table named \\_\\_AdvUHF in the LaundryAutomation DB on the Count-IT DB Server (SRVATENCITDB01)  \n",
                "Table structure should be: Code nchar(24), ArtikelNr nchar(15)"
            ],
            "metadata": {
                "azdata_cell_guid": "5c23146a-0e40-46ec-a3de-bbe5d48cb3f2"
            }
        },
        {
            "cell_type": "markdown",
            "source": [
                "## 3\\. Update chips\n",
                "\n",
                "Run on: Count-IT DB (SRVATENCITDB01)\n",
                "\n",
                "Updates all chips where the article in AdvanTex does not match the article in the Count-IT DB (Table: SalesianerChip)"
            ],
            "metadata": {
                "azdata_cell_guid": "0c5211d9-41da-47d4-a5bc-bd6b87bef564"
            }
        },
        {
            "cell_type": "code",
            "source": [
                "WITH CurrentArticle AS (\r\n",
                "  SELECT a.ArticleID, a.ArticleNumber\r\n",
                "  FROM LaundryAutomation.dbo.Article AS a\r\n",
                "  WHERE a.LastTransmissionDate >= DATEADD(day, -7, GETDATE())\r\n",
                ")\r\n",
                "UPDATE LaundryAutomation.dbo.SalesianerChip SET ArticleID = CurrentArticle.ArticleID\n",
                "FROM LaundryAtomation.dbo.SalesianerChip\r\n",
                "JOIN LaundryAutomation.dbo.__AdvUHF ON __AdvUHF.Code = SalesianerChip.Sgtin96HexCode\r\n",
                "JOIN CurrentArticle ON __AdvUHF.ArtikelNr = CurrentArticle.ArticleNumber\r\n",
                "WHERE SalesianerChip.ArticleID != CurrentArticle.ArticleID;"
            ],
            "metadata": {
                "azdata_cell_guid": "b529660c-4c15-4c5f-acd5-cc8ada5c3884"
            },
            "outputs": [],
            "execution_count": null
        }
    ]
}